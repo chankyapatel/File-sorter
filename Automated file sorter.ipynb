{
 "cells": [
  {
   "cell_type": "code",
   "execution_count": 1,
   "id": "4c653a72-caed-4e28-b150-0c0d015603d4",
   "metadata": {},
   "outputs": [],
   "source": [
    "#Shell utillities - shutil\n",
    "#allows user to do copy,create, adn remote operations.\n",
    "import os, shutil"
   ]
  },
  {
   "cell_type": "code",
   "execution_count": 2,
   "id": "65a67656-333e-4f19-8d1e-4038df418a1d",
   "metadata": {},
   "outputs": [],
   "source": [
    "# To read the path as raw string\n",
    "path = r\"C:/Users/chana/OneDrive/Desktop/File Sorter Images/\""
   ]
  },
  {
   "cell_type": "code",
   "execution_count": 3,
   "id": "36a7b29e-6fc3-4c65-ade3-e2483876e733",
   "metadata": {},
   "outputs": [],
   "source": [
    "file_name = os.listdir(path)"
   ]
  },
  {
   "cell_type": "code",
   "execution_count": 4,
   "id": "37a037b4-882d-43ee-834a-c23008c264f2",
   "metadata": {},
   "outputs": [
    {
     "name": "stdout",
     "output_type": "stream",
     "text": [
      "C:/Users/chana/OneDrive/Desktop/File Sorter Images/Excel files\n",
      "C:/Users/chana/OneDrive/Desktop/File Sorter Images/image files\n",
      "C:/Users/chana/OneDrive/Desktop/File Sorter Images/text files\n"
     ]
    }
   ],
   "source": [
    "folder_names = ['Excel files', 'image files', 'text files']\n",
    "\n",
    "for loop in range(0,3):\n",
    "    if not os.path.exists(path + folder_names[loop]):\n",
    "        print(path + folder_names[loop])\n",
    "        os.makedirs(path + folder_names[loop])\n",
    "for file in file_name:\n",
    "    if\".jpg\" in file and not os.path.exists(path+\"image files/\" + file):\n",
    "        shutil.move(path + file, path + \"image files/\" + file)\n",
    "    elif\".txt\" in file and not os.path.exists(path+\"text files/\" + file):\n",
    "        shutil.move(path + file, path + \"text files/\" + file)\n",
    "    elif\".xlsb\" in file and not os.path.exists(path+\"Excel files/\" + file):\n",
    "        shutil.move(path + file, path + \"Excel files/\" + file)"
   ]
  }
 ],
 "metadata": {
  "kernelspec": {
   "display_name": "Python 3 (ipykernel)",
   "language": "python",
   "name": "python3"
  },
  "language_info": {
   "codemirror_mode": {
    "name": "ipython",
    "version": 3
   },
   "file_extension": ".py",
   "mimetype": "text/x-python",
   "name": "python",
   "nbconvert_exporter": "python",
   "pygments_lexer": "ipython3",
   "version": "3.12.4"
  }
 },
 "nbformat": 4,
 "nbformat_minor": 5
}
